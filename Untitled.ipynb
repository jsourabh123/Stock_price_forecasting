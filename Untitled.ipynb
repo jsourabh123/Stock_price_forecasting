{
 "cells": [
  {
   "cell_type": "code",
   "execution_count": 15,
   "id": "bf2f87b5",
   "metadata": {
    "scrolled": true
   },
   "outputs": [],
   "source": [
    "import pandas_datareader as pdr"
   ]
  },
  {
   "cell_type": "code",
   "execution_count": 16,
   "id": "1b702000",
   "metadata": {},
   "outputs": [],
   "source": [
    "df = pdr.DataReader('^NSEI','yahoo','2015-12-01','2021-12-01')"
   ]
  },
  {
   "cell_type": "code",
   "execution_count": 17,
   "id": "5d86addc",
   "metadata": {},
   "outputs": [
    {
     "data": {
      "text/html": [
       "<div>\n",
       "<style scoped>\n",
       "    .dataframe tbody tr th:only-of-type {\n",
       "        vertical-align: middle;\n",
       "    }\n",
       "\n",
       "    .dataframe tbody tr th {\n",
       "        vertical-align: top;\n",
       "    }\n",
       "\n",
       "    .dataframe thead th {\n",
       "        text-align: right;\n",
       "    }\n",
       "</style>\n",
       "<table border=\"1\" class=\"dataframe\">\n",
       "  <thead>\n",
       "    <tr style=\"text-align: right;\">\n",
       "      <th></th>\n",
       "      <th>High</th>\n",
       "      <th>Low</th>\n",
       "      <th>Open</th>\n",
       "      <th>Close</th>\n",
       "      <th>Volume</th>\n",
       "      <th>Adj Close</th>\n",
       "    </tr>\n",
       "    <tr>\n",
       "      <th>Date</th>\n",
       "      <th></th>\n",
       "      <th></th>\n",
       "      <th></th>\n",
       "      <th></th>\n",
       "      <th></th>\n",
       "      <th></th>\n",
       "    </tr>\n",
       "  </thead>\n",
       "  <tbody>\n",
       "    <tr>\n",
       "      <th>2015-12-01</th>\n",
       "      <td>7972.149902</td>\n",
       "      <td>7934.149902</td>\n",
       "      <td>7958.149902</td>\n",
       "      <td>7954.899902</td>\n",
       "      <td>138600.0</td>\n",
       "      <td>7954.899902</td>\n",
       "    </tr>\n",
       "    <tr>\n",
       "      <th>2015-12-02</th>\n",
       "      <td>7979.299805</td>\n",
       "      <td>7910.799805</td>\n",
       "      <td>7976.700195</td>\n",
       "      <td>7931.350098</td>\n",
       "      <td>126300.0</td>\n",
       "      <td>7931.350098</td>\n",
       "    </tr>\n",
       "    <tr>\n",
       "      <th>2015-12-03</th>\n",
       "      <td>7912.299805</td>\n",
       "      <td>7853.299805</td>\n",
       "      <td>7902.299805</td>\n",
       "      <td>7864.149902</td>\n",
       "      <td>125700.0</td>\n",
       "      <td>7864.149902</td>\n",
       "    </tr>\n",
       "    <tr>\n",
       "      <th>2015-12-04</th>\n",
       "      <td>7821.399902</td>\n",
       "      <td>7775.700195</td>\n",
       "      <td>7817.600098</td>\n",
       "      <td>7781.899902</td>\n",
       "      <td>152500.0</td>\n",
       "      <td>7781.899902</td>\n",
       "    </tr>\n",
       "    <tr>\n",
       "      <th>2015-12-07</th>\n",
       "      <td>7825.399902</td>\n",
       "      <td>7746.049805</td>\n",
       "      <td>7816.549805</td>\n",
       "      <td>7765.399902</td>\n",
       "      <td>137600.0</td>\n",
       "      <td>7765.399902</td>\n",
       "    </tr>\n",
       "    <tr>\n",
       "      <th>...</th>\n",
       "      <td>...</td>\n",
       "      <td>...</td>\n",
       "      <td>...</td>\n",
       "      <td>...</td>\n",
       "      <td>...</td>\n",
       "      <td>...</td>\n",
       "    </tr>\n",
       "    <tr>\n",
       "      <th>2021-11-25</th>\n",
       "      <td>17564.349609</td>\n",
       "      <td>17351.699219</td>\n",
       "      <td>17417.300781</td>\n",
       "      <td>17536.250000</td>\n",
       "      <td>255900.0</td>\n",
       "      <td>17536.250000</td>\n",
       "    </tr>\n",
       "    <tr>\n",
       "      <th>2021-11-26</th>\n",
       "      <td>17355.400391</td>\n",
       "      <td>16985.699219</td>\n",
       "      <td>17338.750000</td>\n",
       "      <td>17026.449219</td>\n",
       "      <td>356300.0</td>\n",
       "      <td>17026.449219</td>\n",
       "    </tr>\n",
       "    <tr>\n",
       "      <th>2021-11-29</th>\n",
       "      <td>17160.699219</td>\n",
       "      <td>16782.400391</td>\n",
       "      <td>17055.800781</td>\n",
       "      <td>17053.949219</td>\n",
       "      <td>348900.0</td>\n",
       "      <td>17053.949219</td>\n",
       "    </tr>\n",
       "    <tr>\n",
       "      <th>2021-11-30</th>\n",
       "      <td>17324.650391</td>\n",
       "      <td>16931.400391</td>\n",
       "      <td>17051.150391</td>\n",
       "      <td>16983.199219</td>\n",
       "      <td>498000.0</td>\n",
       "      <td>16983.199219</td>\n",
       "    </tr>\n",
       "    <tr>\n",
       "      <th>2021-12-01</th>\n",
       "      <td>17213.050781</td>\n",
       "      <td>17064.250000</td>\n",
       "      <td>17104.400391</td>\n",
       "      <td>17166.900391</td>\n",
       "      <td>295500.0</td>\n",
       "      <td>17166.900391</td>\n",
       "    </tr>\n",
       "  </tbody>\n",
       "</table>\n",
       "<p>1475 rows × 6 columns</p>\n",
       "</div>"
      ],
      "text/plain": [
       "                    High           Low          Open         Close    Volume  \\\n",
       "Date                                                                           \n",
       "2015-12-01   7972.149902   7934.149902   7958.149902   7954.899902  138600.0   \n",
       "2015-12-02   7979.299805   7910.799805   7976.700195   7931.350098  126300.0   \n",
       "2015-12-03   7912.299805   7853.299805   7902.299805   7864.149902  125700.0   \n",
       "2015-12-04   7821.399902   7775.700195   7817.600098   7781.899902  152500.0   \n",
       "2015-12-07   7825.399902   7746.049805   7816.549805   7765.399902  137600.0   \n",
       "...                  ...           ...           ...           ...       ...   \n",
       "2021-11-25  17564.349609  17351.699219  17417.300781  17536.250000  255900.0   \n",
       "2021-11-26  17355.400391  16985.699219  17338.750000  17026.449219  356300.0   \n",
       "2021-11-29  17160.699219  16782.400391  17055.800781  17053.949219  348900.0   \n",
       "2021-11-30  17324.650391  16931.400391  17051.150391  16983.199219  498000.0   \n",
       "2021-12-01  17213.050781  17064.250000  17104.400391  17166.900391  295500.0   \n",
       "\n",
       "               Adj Close  \n",
       "Date                      \n",
       "2015-12-01   7954.899902  \n",
       "2015-12-02   7931.350098  \n",
       "2015-12-03   7864.149902  \n",
       "2015-12-04   7781.899902  \n",
       "2015-12-07   7765.399902  \n",
       "...                  ...  \n",
       "2021-11-25  17536.250000  \n",
       "2021-11-26  17026.449219  \n",
       "2021-11-29  17053.949219  \n",
       "2021-11-30  16983.199219  \n",
       "2021-12-01  17166.900391  \n",
       "\n",
       "[1475 rows x 6 columns]"
      ]
     },
     "execution_count": 17,
     "metadata": {},
     "output_type": "execute_result"
    }
   ],
   "source": [
    "df"
   ]
  },
  {
   "cell_type": "code",
   "execution_count": 18,
   "id": "f2112e22",
   "metadata": {},
   "outputs": [],
   "source": [
    "df1=df.reset_index() # reset the index to integers"
   ]
  },
  {
   "cell_type": "code",
   "execution_count": 19,
   "id": "bc011d25",
   "metadata": {},
   "outputs": [],
   "source": [
    "df1 = df1.Close"
   ]
  },
  {
   "cell_type": "code",
   "execution_count": 20,
   "id": "7b8bf905",
   "metadata": {},
   "outputs": [
    {
     "data": {
      "text/plain": [
       "0        7954.899902\n",
       "1        7931.350098\n",
       "2        7864.149902\n",
       "3        7781.899902\n",
       "4        7765.399902\n",
       "            ...     \n",
       "1470    17536.250000\n",
       "1471    17026.449219\n",
       "1472    17053.949219\n",
       "1473    16983.199219\n",
       "1474    17166.900391\n",
       "Name: Close, Length: 1475, dtype: float64"
      ]
     },
     "execution_count": 20,
     "metadata": {},
     "output_type": "execute_result"
    }
   ],
   "source": [
    "df1"
   ]
  },
  {
   "cell_type": "code",
   "execution_count": 21,
   "id": "a66fd92d",
   "metadata": {},
   "outputs": [
    {
     "name": "stdout",
     "output_type": "stream",
     "text": [
      "(1475,)\n"
     ]
    },
    {
     "data": {
      "image/png": "[encoded data removed]",
      "text/plain": [
       "<Figure size 432x288 with 1 Axes>"
      ]
     },
     "metadata": {
      "needs_background": "light"
     },
     "output_type": "display_data"
    }
   ],
   "source": [
    "import matplotlib.pyplot as plt\n",
    "plt.plot(df1)\n",
    "print(df1.shape)"
   ]
  },
  {
   "cell_type": "code",
   "execution_count": 26,
   "id": "6cc5009e",
   "metadata": {},
   "outputs": [
    {
     "data": {
      "text/plain": [
       "array([ 7954.89990234,  7931.35009766,  7864.14990234, ...,\n",
       "       17053.94921875, 16983.19921875, 17166.90039062])"
      ]
     },
     "execution_count": 26,
     "metadata": {},
     "output_type": "execute_result"
    }
   ],
   "source": [
    "np.array(df1)"
   ]
  },
  {
   "cell_type": "code",
   "execution_count": 28,
   "id": "1ca98fff",
   "metadata": {},
   "outputs": [],
   "source": [
    "import numpy as np\n",
    "from sklearn.preprocessing import MinMaxScaler\n",
    "scaler=MinMaxScaler(feature_range=(0,1))  # bring value is in range 0 to 1\n",
    "df1=scaler.fit_transform(np.array(df1).reshape(-1,1)) "
   ]
  },
  {
   "cell_type": "code",
   "execution_count": 29,
   "id": "1947f21c",
   "metadata": {},
   "outputs": [
    {
     "data": {
      "text/plain": [
       "array([[0.0855433 ],\n",
       "       [0.08349664],\n",
       "       [0.07765642],\n",
       "       ...,\n",
       "       [0.87632141],\n",
       "       [0.87017269],\n",
       "       [0.88613775]])"
      ]
     },
     "execution_count": 29,
     "metadata": {},
     "output_type": "execute_result"
    }
   ],
   "source": [
    "df1"
   ]
  },
  {
   "cell_type": "code",
   "execution_count": 30,
   "id": "67354c76",
   "metadata": {},
   "outputs": [
    {
     "data": {
      "text/plain": [
       "(1475, 1)"
      ]
     },
     "execution_count": 30,
     "metadata": {},
     "output_type": "execute_result"
    }
   ],
   "source": [
    "df1.shape"
   ]
  },
  {
   "cell_type": "code",
   "execution_count": 59,
   "id": "89b9c0fd",
   "metadata": {},
   "outputs": [],
   "source": [
    "##splitting dataset into train and test split\n",
    "training_size=int(len(df1)*0.65) # 65:35 split\n",
    "test_size=len(df1)-training_size\n",
    "train_data,test_data=df1[0:training_size,:],df1[training_size:len(df1),:1]"
   ]
  },
  {
   "cell_type": "code",
   "execution_count": 60,
   "id": "808a04af",
   "metadata": {},
   "outputs": [
    {
     "data": {
      "text/plain": [
       "(958, 517)"
      ]
     },
     "execution_count": 60,
     "metadata": {},
     "output_type": "execute_result"
    }
   ],
   "source": [
    "training_size,test_size"
   ]
  },
  {
   "cell_type": "code",
   "execution_count": 61,
   "id": "18cdde56",
   "metadata": {},
   "outputs": [],
   "source": [
    "# convert an array of values into a dataset matrix\n",
    "def create_dataset(dataset, time_step=1):\n",
    "    dataX, dataY = [], []\n",
    "    for i in range(len(dataset)-time_step-1):\n",
    "        a = dataset[i:(i+time_step), 0]   ###i=0, 0,1,2,3-----59   60 || train_data[0:60,0] and 0 after (,) is axis i.e add all the data(array value from 0 to 59 will be merege in single array) in single array  \n",
    "        dataX.append(a)\n",
    "        dataY.append(dataset[i + time_step, 0])\n",
    "    return np.array(dataX), np.array(dataY)"
   ]
  },
  {
   "cell_type": "code",
   "execution_count": 62,
   "id": "c538c2f3",
   "metadata": {},
   "outputs": [],
   "source": [
    "# reshape into X=t,t+1,t+2,t+3 and Y=t+4\n",
    "time_step = 60\n",
    "X_train, y_train = create_dataset(train_data, time_step)\n",
    "X_test, ytest = create_dataset(test_data, time_step)"
   ]
  },
  {
   "cell_type": "code",
   "execution_count": 63,
   "id": "3e96a12d",
   "metadata": {},
   "outputs": [
    {
     "name": "stdout",
     "output_type": "stream",
     "text": [
      "(897, 60)\n",
      "(897,)\n"
     ]
    },
    {
     "data": {
      "text/plain": [
       "(None, None)"
      ]
     },
     "execution_count": 63,
     "metadata": {},
     "output_type": "execute_result"
    }
   ],
   "source": [
    "print(X_train.shape), print(y_train.shape)"
   ]
  },
  {
   "cell_type": "code",
   "execution_count": 64,
   "id": "14e27fb9",
   "metadata": {},
   "outputs": [
    {
     "name": "stdout",
     "output_type": "stream",
     "text": [
      "(456, 60)\n",
      "(456,)\n"
     ]
    },
    {
     "data": {
      "text/plain": [
       "(None, None)"
      ]
     },
     "execution_count": 64,
     "metadata": {},
     "output_type": "execute_result"
    }
   ],
   "source": [
    "print(X_test.shape), print(ytest.shape)"
   ]
  },
  {
   "cell_type": "code",
   "execution_count": 65,
   "id": "47929ec9",
   "metadata": {},
   "outputs": [],
   "source": [
    "# reshape input to be [samples, time steps, features] which is required for LSTM\n",
    "X_train =X_train.reshape(X_train.shape[0],X_train.shape[1] , 1)  # (897 rows,60 columns and 1 feature i.e closing price)\n",
    "X_test = X_test.reshape(X_test.shape[0],X_test.shape[1] , 1)"
   ]
  },
  {
   "cell_type": "code",
   "execution_count": 66,
   "id": "eedba9ac",
   "metadata": {},
   "outputs": [],
   "source": [
    "from tensorflow.keras.models import Sequential\n",
    "from tensorflow.keras.layers import Dense\n",
    "from tensorflow.keras.layers import LSTM"
   ]
  },
  {
   "cell_type": "code",
   "execution_count": 80,
   "id": "c5001be6",
   "metadata": {},
   "outputs": [],
   "source": [
    "model=Sequential()\n",
    "model.add(LSTM(50,return_sequences=True,input_shape=(60,1))) # Input_shape is last 60 days closing(1) value \n",
    "#to know about how to calculate param follow below link\n",
    "#https://towardsdatascience.com/counting-no-of-parameters-in-deep-learning-models-by-hand-8f1716241889\n",
    "#DEFAULT ACTIVATION FUNCTION OF LSTM IS tanh(-1,1)\n",
    "model.add(LSTM(50,return_sequences=True))\n",
    "model.add(LSTM(50))\n",
    "model.add(Dense(1))\n",
    "model.compile(loss='mean_squared_error',optimizer='adam')"
   ]
  },
  {
   "cell_type": "code",
   "execution_count": 81,
   "id": "e25d73bb",
   "metadata": {
    "scrolled": true
   },
   "outputs": [
    {
     "name": "stdout",
     "output_type": "stream",
     "text": [
      "Model: \"sequential_4\"\n",
      "_________________________________________________________________\n",
      " Layer (type)                Output Shape              Param #   \n",
      "=================================================================\n",
      " lstm_12 (LSTM)              (None, 60, 50)            10400     \n",
      "                                                                 \n",
      " lstm_13 (LSTM)              (None, 60, 50)            20200     \n",
      "                                                                 \n",
      " lstm_14 (LSTM)              (None, 50)                20200     \n",
      "                                                                 \n",
      " dense_4 (Dense)             (None, 1)                 51        \n",
      "                                                                 \n",
      "=================================================================\n",
      "Total params: 50,851\n",
      "Trainable params: 50,851\n",
      "Non-trainable params: 0\n",
      "_________________________________________________________________\n"
     ]
    }
   ],
   "source": [
    "model.summary()"
   ]
  },
  {
   "cell_type": "code",
   "execution_count": 82,
   "id": "b9821b24",
   "metadata": {},
   "outputs": [
    {
     "data": {
      "text/plain": [
       "897"
      ]
     },
     "execution_count": 82,
     "metadata": {},
     "output_type": "execute_result"
    }
   ],
   "source": [
    "len(X_train)\n",
    "from keras.callbacks import EarlyStopping\n",
    "earlyStop=EarlyStopping(monitor=\"val_loss\",verbose=2,patience=3)"
   ]
  },
  {
   "cell_type": "code",
   "execution_count": 83,
   "id": "2cfe072e",
   "metadata": {},
   "outputs": [
    {
     "name": "stdout",
     "output_type": "stream",
     "text": [
      "Epoch 1/100\n",
      "15/15 [==============================] - 13s 385ms/step - loss: 0.0222 - val_loss: 0.0642\n",
      "Epoch 2/100\n",
      "15/15 [==============================] - 2s 168ms/step - loss: 0.0026 - val_loss: 0.0235\n",
      "Epoch 3/100\n",
      "15/15 [==============================] - 2s 163ms/step - loss: 9.4508e-04 - val_loss: 0.0092\n",
      "Epoch 4/100\n",
      "15/15 [==============================] - 2s 159ms/step - loss: 5.1321e-04 - val_loss: 0.0065\n",
      "Epoch 5/100\n",
      "15/15 [==============================] - 2s 155ms/step - loss: 4.7908e-04 - val_loss: 0.0067\n",
      "Epoch 6/100\n",
      "15/15 [==============================] - 2s 155ms/step - loss: 4.3601e-04 - val_loss: 0.0060\n",
      "Epoch 7/100\n",
      "15/15 [==============================] - 2s 155ms/step - loss: 4.7135e-04 - val_loss: 0.0075\n",
      "Epoch 8/100\n",
      "15/15 [==============================] - 2s 156ms/step - loss: 6.2121e-04 - val_loss: 0.0101\n",
      "Epoch 9/100\n",
      "15/15 [==============================] - 2s 155ms/step - loss: 4.8383e-04 - val_loss: 0.0073\n",
      "Epoch 10/100\n",
      "15/15 [==============================] - 2s 155ms/step - loss: 4.2368e-04 - val_loss: 0.0069\n",
      "Epoch 11/100\n",
      "15/15 [==============================] - 2s 156ms/step - loss: 4.0372e-04 - val_loss: 0.0071-0\n",
      "Epoch 12/100\n",
      "15/15 [==============================] - 2s 155ms/step - loss: 4.0548e-04 - val_loss: 0.0056\n",
      "Epoch 13/100\n",
      "15/15 [==============================] - 2s 159ms/step - loss: 3.9181e-04 - val_loss: 0.0049\n",
      "Epoch 14/100\n",
      "15/15 [==============================] - 2s 155ms/step - loss: 4.1720e-04 - val_loss: 0.0040\n",
      "Epoch 15/100\n",
      "15/15 [==============================] - 2s 158ms/step - loss: 4.9684e-04 - val_loss: 0.0039\n",
      "Epoch 16/100\n",
      "15/15 [==============================] - 2s 154ms/step - loss: 3.9176e-04 - val_loss: 0.0048\n",
      "Epoch 17/100\n",
      "15/15 [==============================] - 2s 156ms/step - loss: 3.7146e-04 - val_loss: 0.0045\n",
      "Epoch 18/100\n",
      "15/15 [==============================] - 2s 154ms/step - loss: 3.9919e-04 - val_loss: 0.0052\n",
      "Epoch 19/100\n",
      "15/15 [==============================] - 2s 156ms/step - loss: 3.4983e-04 - val_loss: 0.0080\n",
      "Epoch 20/100\n",
      "15/15 [==============================] - 2s 154ms/step - loss: 5.3556e-04 - val_loss: 0.0045\n",
      "Epoch 21/100\n",
      "15/15 [==============================] - 2s 154ms/step - loss: 3.5574e-04 - val_loss: 0.0043\n",
      "Epoch 22/100\n",
      "15/15 [==============================] - 2s 155ms/step - loss: 3.4727e-04 - val_loss: 0.0031\n",
      "Epoch 23/100\n",
      "15/15 [==============================] - 2s 157ms/step - loss: 3.9357e-04 - val_loss: 0.0066\n",
      "Epoch 24/100\n",
      "15/15 [==============================] - 2s 155ms/step - loss: 4.4723e-04 - val_loss: 0.0032\n",
      "Epoch 25/100\n",
      "15/15 [==============================] - 2s 156ms/step - loss: 3.6483e-04 - val_loss: 0.0046\n",
      "Epoch 26/100\n",
      "15/15 [==============================] - 2s 154ms/step - loss: 3.3454e-04 - val_loss: 0.0033\n",
      "Epoch 27/100\n",
      "15/15 [==============================] - 2s 154ms/step - loss: 3.3489e-04 - val_loss: 0.0034\n",
      "Epoch 28/100\n",
      "15/15 [==============================] - 2s 155ms/step - loss: 3.2567e-04 - val_loss: 0.0032\n",
      "Epoch 29/100\n",
      "15/15 [==============================] - 2s 155ms/step - loss: 3.8124e-04 - val_loss: 0.0058\n",
      "Epoch 30/100\n",
      "15/15 [==============================] - 2s 155ms/step - loss: 3.3816e-04 - val_loss: 0.0079\n",
      "Epoch 31/100\n",
      "15/15 [==============================] - 2s 155ms/step - loss: 6.2029e-04 - val_loss: 0.0025\n",
      "Epoch 32/100\n",
      "15/15 [==============================] - 2s 156ms/step - loss: 5.8690e-04 - val_loss: 0.0065\n",
      "Epoch 33/100\n",
      "15/15 [==============================] - 2s 154ms/step - loss: 3.3189e-04 - val_loss: 0.0037\n",
      "Epoch 34/100\n",
      "15/15 [==============================] - 2s 154ms/step - loss: 3.1553e-04 - val_loss: 0.0051\n",
      "Epoch 35/100\n",
      "15/15 [==============================] - 2s 157ms/step - loss: 3.0305e-04 - val_loss: 0.0039\n",
      "Epoch 36/100\n",
      "15/15 [==============================] - 2s 155ms/step - loss: 2.8927e-04 - val_loss: 0.0044\n",
      "Epoch 37/100\n",
      "15/15 [==============================] - 2s 157ms/step - loss: 2.7840e-04 - val_loss: 0.0041\n",
      "Epoch 38/100\n",
      "15/15 [==============================] - 2s 155ms/step - loss: 2.6298e-04 - val_loss: 0.0025\n",
      "Epoch 39/100\n",
      "15/15 [==============================] - 2s 157ms/step - loss: 2.8299e-04 - val_loss: 0.0026\n",
      "Epoch 40/100\n",
      "15/15 [==============================] - 2s 155ms/step - loss: 3.0387e-04 - val_loss: 0.0032\n",
      "Epoch 41/100\n",
      "15/15 [==============================] - 2s 156ms/step - loss: 2.9458e-04 - val_loss: 0.0071\n",
      "Epoch 42/100\n",
      "15/15 [==============================] - 2s 155ms/step - loss: 4.2270e-04 - val_loss: 0.0027\n",
      "Epoch 43/100\n",
      "15/15 [==============================] - 2s 155ms/step - loss: 3.1142e-04 - val_loss: 0.0031\n",
      "Epoch 44/100\n",
      "15/15 [==============================] - 2s 155ms/step - loss: 2.9097e-04 - val_loss: 0.0067\n",
      "Epoch 45/100\n",
      "15/15 [==============================] - 2s 156ms/step - loss: 3.3118e-04 - val_loss: 0.0020\n",
      "Epoch 46/100\n",
      "15/15 [==============================] - 2s 153ms/step - loss: 3.2817e-04 - val_loss: 0.0063\n",
      "Epoch 47/100\n",
      "15/15 [==============================] - 2s 154ms/step - loss: 3.2307e-04 - val_loss: 0.0028\n",
      "Epoch 48/100\n",
      "15/15 [==============================] - 2s 160ms/step - loss: 2.3852e-04 - val_loss: 0.0047\n",
      "Epoch 49/100\n",
      "15/15 [==============================] - 3s 176ms/step - loss: 2.3360e-04 - val_loss: 0.0078\n",
      "Epoch 50/100\n",
      "15/15 [==============================] - 3s 172ms/step - loss: 4.5133e-04 - val_loss: 0.0025\n",
      "Epoch 51/100\n",
      "15/15 [==============================] - 2s 164ms/step - loss: 3.3144e-04 - val_loss: 0.0059\n",
      "Epoch 52/100\n",
      "15/15 [==============================] - 3s 176ms/step - loss: 2.5057e-04 - val_loss: 0.0030\n",
      "Epoch 53/100\n",
      "15/15 [==============================] - 3s 173ms/step - loss: 2.7464e-04 - val_loss: 0.0062\n",
      "Epoch 54/100\n",
      "15/15 [==============================] - 3s 172ms/step - loss: 2.4351e-04 - val_loss: 0.0024\n",
      "Epoch 55/100\n",
      "15/15 [==============================] - 3s 181ms/step - loss: 2.7292e-04 - val_loss: 0.0064\n",
      "Epoch 56/100\n",
      "15/15 [==============================] - 3s 175ms/step - loss: 2.2666e-04 - val_loss: 0.0039\n",
      "Epoch 57/100\n",
      "15/15 [==============================] - 3s 180ms/step - loss: 2.2610e-04 - val_loss: 0.0047\n",
      "Epoch 58/100\n",
      "15/15 [==============================] - 3s 177ms/step - loss: 2.3253e-04 - val_loss: 0.0035\n",
      "Epoch 59/100\n",
      "15/15 [==============================] - 3s 182ms/step - loss: 2.2652e-04 - val_loss: 0.0052\n",
      "Epoch 60/100\n",
      "15/15 [==============================] - 3s 167ms/step - loss: 3.0411e-04 - val_loss: 0.0023\n",
      "Epoch 61/100\n",
      "15/15 [==============================] - 2s 155ms/step - loss: 2.6955e-04 - val_loss: 0.0056\n",
      "Epoch 62/100\n",
      "15/15 [==============================] - 2s 162ms/step - loss: 2.3333e-04 - val_loss: 0.0032\n",
      "Epoch 63/100\n",
      "15/15 [==============================] - 3s 172ms/step - loss: 2.1529e-04 - val_loss: 0.0051\n",
      "Epoch 64/100\n",
      "15/15 [==============================] - 3s 169ms/step - loss: 2.3859e-04 - val_loss: 0.0026\n",
      "Epoch 65/100\n",
      "15/15 [==============================] - 2s 165ms/step - loss: 2.2251e-04 - val_loss: 0.0019\n",
      "Epoch 66/100\n",
      "15/15 [==============================] - 2s 165ms/step - loss: 2.6336e-04 - val_loss: 0.0061\n",
      "Epoch 67/100\n",
      "15/15 [==============================] - 2s 169ms/step - loss: 2.7785e-04 - val_loss: 0.0025\n",
      "Epoch 68/100\n",
      "15/15 [==============================] - 2s 162ms/step - loss: 2.3421e-04 - val_loss: 0.0034\n",
      "Epoch 69/100\n",
      "15/15 [==============================] - 3s 172ms/step - loss: 2.1264e-04 - val_loss: 0.0057\n",
      "Epoch 70/100\n",
      "15/15 [==============================] - 3s 187ms/step - loss: 2.9347e-04 - val_loss: 0.0018\n",
      "Epoch 71/100\n",
      "15/15 [==============================] - 2s 162ms/step - loss: 2.4299e-04 - val_loss: 0.0032\n",
      "Epoch 72/100\n",
      "15/15 [==============================] - 3s 199ms/step - loss: 2.3214e-04 - val_loss: 0.0038\n",
      "Epoch 73/100\n",
      "15/15 [==============================] - 3s 187ms/step - loss: 2.0365e-04 - val_loss: 0.0017\n",
      "Epoch 74/100\n",
      "15/15 [==============================] - 3s 196ms/step - loss: 2.5904e-04 - val_loss: 0.0039\n",
      "Epoch 75/100\n",
      "15/15 [==============================] - 3s 199ms/step - loss: 2.3519e-04 - val_loss: 0.0041\n",
      "Epoch 76/100\n",
      "15/15 [==============================] - 2s 163ms/step - loss: 2.2884e-04 - val_loss: 0.0037\n",
      "Epoch 77/100\n",
      "15/15 [==============================] - 3s 168ms/step - loss: 2.8873e-04 - val_loss: 0.0044\n",
      "Epoch 78/100\n",
      "15/15 [==============================] - 3s 167ms/step - loss: 4.3343e-04 - val_loss: 0.0020\n",
      "Epoch 79/100\n",
      "15/15 [==============================] - 2s 158ms/step - loss: 2.3958e-04 - val_loss: 0.0045\n",
      "Epoch 80/100\n",
      "15/15 [==============================] - 3s 170ms/step - loss: 2.0627e-04 - val_loss: 0.0036\n",
      "Epoch 81/100\n",
      "15/15 [==============================] - 3s 196ms/step - loss: 2.0960e-04 - val_loss: 0.0021\n",
      "Epoch 82/100\n",
      "15/15 [==============================] - 3s 181ms/step - loss: 1.9984e-04 - val_loss: 0.0035\n",
      "Epoch 83/100\n",
      "15/15 [==============================] - 3s 172ms/step - loss: 2.2293e-04 - val_loss: 0.0021\n",
      "Epoch 84/100\n",
      "15/15 [==============================] - 2s 166ms/step - loss: 2.1947e-04 - val_loss: 0.0033\n",
      "Epoch 85/100\n",
      "15/15 [==============================] - 2s 162ms/step - loss: 2.3366e-04 - val_loss: 0.0017\n",
      "Epoch 86/100\n",
      "15/15 [==============================] - 3s 179ms/step - loss: 2.4139e-04 - val_loss: 0.0020\n",
      "Epoch 87/100\n",
      "15/15 [==============================] - 3s 182ms/step - loss: 3.0435e-04 - val_loss: 0.0069\n",
      "Epoch 88/100\n",
      "15/15 [==============================] - 3s 183ms/step - loss: 3.5585e-04 - val_loss: 0.0032\n",
      "Epoch 89/100\n",
      "15/15 [==============================] - 2s 165ms/step - loss: 3.2800e-04 - val_loss: 0.0036\n",
      "Epoch 90/100\n",
      "15/15 [==============================] - 2s 163ms/step - loss: 2.1513e-04 - val_loss: 0.0027\n",
      "Epoch 91/100\n",
      "15/15 [==============================] - 3s 170ms/step - loss: 1.9743e-04 - val_loss: 0.0021\n",
      "Epoch 92/100\n",
      "15/15 [==============================] - 3s 174ms/step - loss: 1.8648e-04 - val_loss: 0.0020\n",
      "Epoch 93/100\n",
      "15/15 [==============================] - 2s 165ms/step - loss: 1.8775e-04 - val_loss: 0.0038\n",
      "Epoch 94/100\n",
      "15/15 [==============================] - 3s 177ms/step - loss: 2.5816e-04 - val_loss: 0.0026\n",
      "Epoch 95/100\n",
      "15/15 [==============================] - 3s 172ms/step - loss: 2.2384e-04 - val_loss: 0.0013\n",
      "Epoch 96/100\n",
      "15/15 [==============================] - 2s 164ms/step - loss: 1.9511e-04 - val_loss: 0.0022\n",
      "Epoch 97/100\n",
      "15/15 [==============================] - 2s 158ms/step - loss: 2.0768e-04 - val_loss: 0.0022\n",
      "Epoch 98/100\n",
      "15/15 [==============================] - 2s 157ms/step - loss: 1.8224e-04 - val_loss: 0.0042\n",
      "Epoch 99/100\n",
      "15/15 [==============================] - 3s 169ms/step - loss: 2.9901e-04 - val_loss: 0.0017\n",
      "Epoch 100/100\n",
      "15/15 [==============================] - 2s 158ms/step - loss: 1.9792e-04 - val_loss: 0.0024\n"
     ]
    }
   ],
   "source": [
    "history = model.fit(X_train,y_train,validation_data=(X_test,ytest),epochs=100,batch_size=64,verbose=1,callbacks=[earlyStop])"
   ]
  },
  {
   "cell_type": "code",
   "execution_count": 48,
   "id": "123b5019",
   "metadata": {},
   "outputs": [
    {
     "name": "stdout",
     "output_type": "stream",
     "text": [
      "[0.07801826298236847, 0.02730301022529602, 0.010571727529168129, 0.004079911392182112, 0.002101069549098611, 0.0036296139005571604, 0.004277850966900587, 0.002496727043762803, 0.0026471237652003765, 0.003869717475026846, 0.0037622195668518543, 0.002978390781208873, 0.003280565608292818, 0.002462860429659486, 0.0026307920925319195, 0.0042379130609333515, 0.0022908467799425125, 0.0035611712373793125, 0.0029504213016480207, 0.002521929331123829, 0.0035009293351322412, 0.0041672056540846825, 0.0022175824269652367, 0.0028679431416094303, 0.0032294588163495064, 0.004618324805051088, 0.0031168449204415083, 0.0025934118311852217, 0.0032556653022766113, 0.0027082632295787334, 0.0031987796537578106, 0.0036984803155064583, 0.0026836853940039873, 0.00461381021887064, 0.003294767113402486, 0.005161554552614689, 0.005247446242719889, 0.005627173464745283, 0.007166781462728977, 0.006302110385149717, 0.004651321098208427, 0.004684737417846918, 0.005666149314492941, 0.005802718456834555, 0.007030067499727011, 0.005313068628311157, 0.007392834406346083, 0.005678835790604353, 0.00478665716946125, 0.006679914891719818, 0.007559533230960369, 0.005080633331090212, 0.004970301408320665, 0.004424844868481159, 0.005406361538916826, 0.005638302303850651, 0.00767199881374836, 0.00734674371778965, 0.005926052108407021, 0.005403242073953152, 0.0056794253177940845, 0.005911255721002817, 0.005929785780608654, 0.00735378498211503, 0.006020027678459883, 0.004571292083710432, 0.005068774335086346, 0.004795663990080357, 0.005275859963148832, 0.00402843439951539, 0.003949078731238842, 0.003615901805460453, 0.005796271376311779, 0.004587496630847454, 0.004251338541507721, 0.0032715185079723597, 0.0054330602288246155, 0.005122925620526075, 0.004683737177401781, 0.00497658085078001, 0.003845613682642579, 0.006055263802409172, 0.0025495849549770355, 0.003331906860694289, 0.003329595783725381, 0.0026165915187448263, 0.0031506193336099386, 0.0031585805118083954, 0.005915640853345394, 0.00431391317397356, 0.0032689052168279886, 0.004181272350251675, 0.004430084954947233, 0.0023783263750374317, 0.003925109747797251, 0.0032956250943243504, 0.0033108768984675407, 0.002148690167814493, 0.003954444546252489, 0.00372023181989789]\n"
     ]
    },
    {
     "ename": "KeyError",
     "evalue": "'val_accuracy'",
     "output_type": "error",
     "traceback": [
      "\u001b[1;31m---------------------------------------------------------------------------\u001b[0m",
      "\u001b[1;31mKeyError\u001b[0m                                  Traceback (most recent call last)",
      "\u001b[1;32m~\\AppData\\Local\\Temp/ipykernel_8088/3905690117.py\u001b[0m in \u001b[0;36m<module>\u001b[1;34m\u001b[0m\n\u001b[0;32m      2\u001b[0m \u001b[1;31m#print(history.history['accuracy'])\u001b[0m\u001b[1;33m\u001b[0m\u001b[1;33m\u001b[0m\u001b[1;33m\u001b[0m\u001b[0m\n\u001b[0;32m      3\u001b[0m \u001b[0mprint\u001b[0m\u001b[1;33m(\u001b[0m\u001b[0mhistory\u001b[0m\u001b[1;33m.\u001b[0m\u001b[0mhistory\u001b[0m\u001b[1;33m[\u001b[0m\u001b[1;34m'val_loss'\u001b[0m\u001b[1;33m]\u001b[0m\u001b[1;33m)\u001b[0m\u001b[1;33m\u001b[0m\u001b[1;33m\u001b[0m\u001b[0m\n\u001b[1;32m----> 4\u001b[1;33m \u001b[0mprint\u001b[0m\u001b[1;33m(\u001b[0m\u001b[0mhistory\u001b[0m\u001b[1;33m.\u001b[0m\u001b[0mhistory\u001b[0m\u001b[1;33m[\u001b[0m\u001b[1;34m'val_accuracy'\u001b[0m\u001b[1;33m]\u001b[0m\u001b[1;33m)\u001b[0m\u001b[1;33m\u001b[0m\u001b[1;33m\u001b[0m\u001b[0m\n\u001b[0m",
      "\u001b[1;31mKeyError\u001b[0m: 'val_accuracy'"
     ]
    }
   ],
   "source": [
    "#print(history.history['loss'])\n",
    "#print(history.history['accuracy'])\n",
    "print(history.history['val_loss'])\n",
    "print(history.history['val_accuracy'])"
   ]
  },
  {
   "cell_type": "code",
   "execution_count": 84,
   "id": "95bf0c60",
   "metadata": {},
   "outputs": [],
   "source": [
    "### Lets Do the prediction and check performance metrics\n",
    "train_predict=model.predict(X_train)\n",
    "test_predict=model.predict(X_test)"
   ]
  },
  {
   "cell_type": "code",
   "execution_count": 85,
   "id": "0bd88aa5",
   "metadata": {},
   "outputs": [],
   "source": [
    "##Transformback to original form\n",
    "train_predict=scaler.inverse_transform(train_predict)\n",
    "test_predict=scaler.inverse_transform(test_predict)"
   ]
  },
  {
   "cell_type": "code",
   "execution_count": 86,
   "id": "18ef54c3",
   "metadata": {},
   "outputs": [
    {
     "data": {
      "text/plain": [
       "9964.92043068079"
      ]
     },
     "execution_count": 86,
     "metadata": {},
     "output_type": "execute_result"
    }
   ],
   "source": [
    "import math\n",
    "from sklearn.metrics import mean_squared_error\n",
    "math.sqrt(mean_squared_error(y_train,train_predict))"
   ]
  },
  {
   "cell_type": "code",
   "execution_count": 77,
   "id": "843a1483",
   "metadata": {},
   "outputs": [
    {
     "data": {
      "text/plain": [
       "array([[12241.17  ],\n",
       "       [12208.132 ],\n",
       "       [12169.868 ],\n",
       "       [12135.782 ],\n",
       "       [12101.674 ],\n",
       "       [12063.318 ],\n",
       "       [12002.895 ],\n",
       "       [11948.99  ],\n",
       "       [11919.616 ],\n",
       "       [11919.939 ],\n",
       "       [11940.948 ],\n",
       "       [11968.321 ],\n",
       "       [12001.159 ],\n",
       "       [12043.035 ],\n",
       "       [12087.412 ],\n",
       "       [12123.92  ],\n",
       "       [12143.695 ],\n",
       "       [12142.907 ],\n",
       "       [12137.081 ],\n",
       "       [12127.923 ],\n",
       "       [12096.922 ],\n",
       "       [12045.211 ],\n",
       "       [11972.29  ],\n",
       "       [11885.67  ],\n",
       "       [11763.161 ],\n",
       "       [11613.618 ],\n",
       "       [11470.592 ],\n",
       "       [11347.604 ],\n",
       "       [11254.21  ],\n",
       "       [11171.744 ],\n",
       "       [11060.169 ],\n",
       "       [10926.333 ],\n",
       "       [10728.102 ],\n",
       "       [10512.529 ],\n",
       "       [10263.395 ],\n",
       "       [ 9991.441 ],\n",
       "       [ 9696.541 ],\n",
       "       [ 9394.433 ],\n",
       "       [ 9134.73  ],\n",
       "       [ 8881.106 ],\n",
       "       [ 8645.558 ],\n",
       "       [ 8462.277 ],\n",
       "       [ 8353.535 ],\n",
       "       [ 8316.469 ],\n",
       "       [ 8318.918 ],\n",
       "       [ 8354.6455],\n",
       "       [ 8396.717 ],\n",
       "       [ 8424.184 ],\n",
       "       [ 8464.171 ],\n",
       "       [ 8519.949 ],\n",
       "       [ 8603.936 ],\n",
       "       [ 8704.418 ],\n",
       "       [ 8804.739 ],\n",
       "       [ 8897.003 ],\n",
       "       [ 8989.461 ],\n",
       "       [ 9079.618 ],\n",
       "       [ 9147.12  ],\n",
       "       [ 9197.598 ],\n",
       "       [ 9240.613 ],\n",
       "       [ 9269.814 ],\n",
       "       [ 9291.667 ],\n",
       "       [ 9313.901 ],\n",
       "       [ 9347.119 ],\n",
       "       [ 9407.549 ],\n",
       "       [ 9458.2   ],\n",
       "       [ 9481.778 ],\n",
       "       [ 9481.277 ],\n",
       "       [ 9459.326 ],\n",
       "       [ 9426.335 ],\n",
       "       [ 9389.492 ],\n",
       "       [ 9351.84  ],\n",
       "       [ 9327.009 ],\n",
       "       [ 9304.324 ],\n",
       "       [ 9281.058 ],\n",
       "       [ 9240.764 ],\n",
       "       [ 9187.882 ],\n",
       "       [ 9139.679 ],\n",
       "       [ 9105.394 ],\n",
       "       [ 9083.24  ],\n",
       "       [ 9070.544 ],\n",
       "       [ 9079.98  ],\n",
       "       [ 9119.458 ],\n",
       "       [ 9187.687 ],\n",
       "       [ 9287.793 ],\n",
       "       [ 9416.973 ],\n",
       "       [ 9565.51  ],\n",
       "       [ 9715.453 ],\n",
       "       [ 9858.871 ],\n",
       "       [ 9987.749 ],\n",
       "       [10087.635 ],\n",
       "       [10159.373 ],\n",
       "       [10191.756 ],\n",
       "       [10193.779 ],\n",
       "       [10165.147 ],\n",
       "       [10121.68  ],\n",
       "       [10072.116 ],\n",
       "       [10036.735 ],\n",
       "       [10029.5625],\n",
       "       [10052.65  ],\n",
       "       [10108.215 ],\n",
       "       [10174.906 ],\n",
       "       [10238.502 ],\n",
       "       [10297.446 ],\n",
       "       [10344.014 ],\n",
       "       [10375.582 ],\n",
       "       [10401.547 ],\n",
       "       [10432.502 ],\n",
       "       [10472.225 ],\n",
       "       [10527.81  ],\n",
       "       [10596.336 ],\n",
       "       [10662.883 ],\n",
       "       [10726.681 ],\n",
       "       [10780.433 ],\n",
       "       [10823.412 ],\n",
       "       [10841.31  ],\n",
       "       [10836.083 ],\n",
       "       [10822.67  ],\n",
       "       [10819.376 ],\n",
       "       [10837.574 ],\n",
       "       [10884.018 ],\n",
       "       [10948.349 ],\n",
       "       [11024.89  ],\n",
       "       [11101.892 ],\n",
       "       [11165.913 ],\n",
       "       [11224.432 ],\n",
       "       [11269.131 ],\n",
       "       [11290.742 ],\n",
       "       [11288.798 ],\n",
       "       [11255.567 ],\n",
       "       [11214.425 ],\n",
       "       [11176.514 ],\n",
       "       [11154.141 ],\n",
       "       [11149.209 ],\n",
       "       [11162.34  ],\n",
       "       [11192.004 ],\n",
       "       [11230.416 ],\n",
       "       [11269.966 ],\n",
       "       [11296.275 ],\n",
       "       [11312.1875],\n",
       "       [11330.182 ],\n",
       "       [11353.613 ],\n",
       "       [11373.318 ],\n",
       "       [11390.982 ],\n",
       "       [11413.235 ],\n",
       "       [11439.448 ],\n",
       "       [11472.57  ],\n",
       "       [11509.844 ],\n",
       "       [11553.595 ],\n",
       "       [11579.137 ],\n",
       "       [11589.317 ],\n",
       "       [11592.435 ],\n",
       "       [11591.57  ],\n",
       "       [11573.622 ],\n",
       "       [11542.609 ],\n",
       "       [11501.864 ],\n",
       "       [11454.721 ],\n",
       "       [11420.146 ],\n",
       "       [11403.383 ],\n",
       "       [11400.919 ],\n",
       "       [11414.7   ],\n",
       "       [11446.402 ],\n",
       "       [11482.893 ],\n",
       "       [11516.189 ],\n",
       "       [11522.817 ],\n",
       "       [11495.821 ],\n",
       "       [11442.268 ],\n",
       "       [11350.426 ],\n",
       "       [11252.684 ],\n",
       "       [11178.614 ],\n",
       "       [11135.306 ],\n",
       "       [11122.288 ],\n",
       "       [11145.33  ],\n",
       "       [11201.824 ],\n",
       "       [11291.11  ],\n",
       "       [11404.672 ],\n",
       "       [11533.84  ],\n",
       "       [11669.496 ],\n",
       "       [11799.074 ],\n",
       "       [11911.431 ],\n",
       "       [12002.332 ],\n",
       "       [12045.133 ],\n",
       "       [12048.711 ],\n",
       "       [12033.158 ],\n",
       "       [12011.127 ],\n",
       "       [11992.179 ],\n",
       "       [11975.457 ],\n",
       "       [11963.644 ],\n",
       "       [11943.06  ],\n",
       "       [11923.615 ],\n",
       "       [11895.217 ],\n",
       "       [11855.1455],\n",
       "       [11806.179 ],\n",
       "       [11757.032 ],\n",
       "       [11725.125 ],\n",
       "       [11720.479 ],\n",
       "       [11756.405 ],\n",
       "       [11835.236 ],\n",
       "       [11957.562 ],\n",
       "       [12117.881 ],\n",
       "       [12303.282 ],\n",
       "       [12484.701 ],\n",
       "       [12643.828 ],\n",
       "       [12782.021 ],\n",
       "       [12898.84  ],\n",
       "       [12974.743 ],\n",
       "       [13016.673 ],\n",
       "       [13036.184 ],\n",
       "       [13050.643 ],\n",
       "       [13045.139 ],\n",
       "       [13032.522 ],\n",
       "       [13015.028 ],\n",
       "       [13007.381 ],\n",
       "       [13010.029 ],\n",
       "       [13021.062 ],\n",
       "       [13047.159 ],\n",
       "       [13091.513 ],\n",
       "       [13149.011 ],\n",
       "       [13222.08  ],\n",
       "       [13295.375 ],\n",
       "       [13361.853 ],\n",
       "       [13419.147 ],\n",
       "       [13464.28  ],\n",
       "       [13505.884 ],\n",
       "       [13547.666 ],\n",
       "       [13587.824 ],\n",
       "       [13581.348 ],\n",
       "       [13543.818 ],\n",
       "       [13500.615 ],\n",
       "       [13475.565 ],\n",
       "       [13482.302 ],\n",
       "       [13519.817 ],\n",
       "       [13580.415 ],\n",
       "       [13650.047 ],\n",
       "       [13730.606 ],\n",
       "       [13817.77  ],\n",
       "       [13895.399 ],\n",
       "       [13954.166 ],\n",
       "       [14010.956 ],\n",
       "       [14076.685 ],\n",
       "       [14152.077 ],\n",
       "       [14226.909 ],\n",
       "       [14293.955 ],\n",
       "       [14330.359 ],\n",
       "       [14320.425 ],\n",
       "       [14295.796 ],\n",
       "       [14278.816 ],\n",
       "       [14267.205 ],\n",
       "       [14238.145 ],\n",
       "       [14180.405 ],\n",
       "       [14077.326 ],\n",
       "       [13932.051 ],\n",
       "       [13751.5   ],\n",
       "       [13622.645 ],\n",
       "       [13594.521 ],\n",
       "       [13668.314 ],\n",
       "       [13821.966 ],\n",
       "       [14018.469 ],\n",
       "       [14238.922 ],\n",
       "       [14451.323 ],\n",
       "       [14631.313 ],\n",
       "       [14772.171 ],\n",
       "       [14868.453 ],\n",
       "       [14936.339 ],\n",
       "       [14978.776 ],\n",
       "       [14987.922 ],\n",
       "       [14960.152 ],\n",
       "       [14892.188 ],\n",
       "       [14769.529 ],\n",
       "       [14617.115 ],\n",
       "       [14485.29  ],\n",
       "       [14399.282 ],\n",
       "       [14304.762 ],\n",
       "       [14224.275 ],\n",
       "       [14178.327 ],\n",
       "       [14196.824 ],\n",
       "       [14250.994 ],\n",
       "       [14308.008 ],\n",
       "       [14357.133 ],\n",
       "       [14407.3955],\n",
       "       [14463.229 ],\n",
       "       [14505.736 ],\n",
       "       [14521.986 ],\n",
       "       [14513.356 ],\n",
       "       [14469.56  ],\n",
       "       [14387.048 ],\n",
       "       [14300.86  ],\n",
       "       [14225.39  ],\n",
       "       [14175.445 ],\n",
       "       [14126.484 ],\n",
       "       [14057.252 ],\n",
       "       [13992.532 ],\n",
       "       [13973.669 ],\n",
       "       [13984.501 ],\n",
       "       [14031.561 ],\n",
       "       [14080.435 ],\n",
       "       [14124.864 ],\n",
       "       [14173.852 ],\n",
       "       [14229.329 ],\n",
       "       [14282.044 ],\n",
       "       [14276.604 ],\n",
       "       [14237.877 ],\n",
       "       [14189.566 ],\n",
       "       [14147.449 ],\n",
       "       [14092.785 ],\n",
       "       [14024.804 ],\n",
       "       [13963.099 ],\n",
       "       [13909.221 ],\n",
       "       [13880.567 ],\n",
       "       [13892.676 ],\n",
       "       [13957.564 ],\n",
       "       [14061.209 ],\n",
       "       [14156.202 ],\n",
       "       [14227.361 ],\n",
       "       [14257.963 ],\n",
       "       [14264.964 ],\n",
       "       [14267.6875],\n",
       "       [14280.683 ],\n",
       "       [14314.432 ],\n",
       "       [14353.2   ],\n",
       "       [14373.87  ],\n",
       "       [14372.398 ],\n",
       "       [14376.696 ],\n",
       "       [14407.168 ],\n",
       "       [14450.215 ],\n",
       "       [14483.69  ],\n",
       "       [14527.819 ],\n",
       "       [14580.159 ],\n",
       "       [14633.85  ],\n",
       "       [14690.328 ],\n",
       "       [14746.199 ],\n",
       "       [14804.232 ],\n",
       "       [14871.899 ],\n",
       "       [14939.4795],\n",
       "       [14997.842 ],\n",
       "       [15051.751 ],\n",
       "       [15094.555 ],\n",
       "       [15130.52  ],\n",
       "       [15156.038 ],\n",
       "       [15159.468 ],\n",
       "       [15152.793 ],\n",
       "       [15145.508 ],\n",
       "       [15139.925 ],\n",
       "       [15140.582 ],\n",
       "       [15135.292 ],\n",
       "       [15115.656 ],\n",
       "       [15083.869 ],\n",
       "       [15051.418 ],\n",
       "       [15025.076 ],\n",
       "       [14998.113 ],\n",
       "       [14981.311 ],\n",
       "       [14981.027 ],\n",
       "       [14989.127 ],\n",
       "       [14994.615 ],\n",
       "       [14992.799 ],\n",
       "       [14980.763 ],\n",
       "       [14965.798 ],\n",
       "       [14961.853 ],\n",
       "       [14967.175 ],\n",
       "       [14984.42  ],\n",
       "       [14994.587 ],\n",
       "       [14991.834 ],\n",
       "       [14978.885 ],\n",
       "       [14971.466 ],\n",
       "       [14975.426 ],\n",
       "       [14995.171 ],\n",
       "       [15025.106 ],\n",
       "       [15042.383 ],\n",
       "       [15033.495 ],\n",
       "       [15021.927 ],\n",
       "       [15016.169 ],\n",
       "       [15014.106 ],\n",
       "       [15007.32  ],\n",
       "       [14992.656 ],\n",
       "       [14979.378 ],\n",
       "       [14968.293 ],\n",
       "       [14971.673 ],\n",
       "       [15010.414 ],\n",
       "       [15086.733 ],\n",
       "       [15186.757 ],\n",
       "       [15286.199 ],\n",
       "       [15372.802 ],\n",
       "       [15441.003 ],\n",
       "       [15488.128 ],\n",
       "       [15522.368 ],\n",
       "       [15560.144 ],\n",
       "       [15601.804 ],\n",
       "       [15646.273 ],\n",
       "       [15682.653 ],\n",
       "       [15695.59  ],\n",
       "       [15690.925 ],\n",
       "       [15685.39  ],\n",
       "       [15682.175 ],\n",
       "       [15680.766 ],\n",
       "       [15685.859 ],\n",
       "       [15715.484 ],\n",
       "       [15779.986 ],\n",
       "       [15858.548 ],\n",
       "       [15949.851 ],\n",
       "       [16047.596 ],\n",
       "       [16143.073 ],\n",
       "       [16223.528 ],\n",
       "       [16281.47  ],\n",
       "       [16316.742 ],\n",
       "       [16329.89  ],\n",
       "       [16327.164 ],\n",
       "       [16325.621 ],\n",
       "       [16336.022 ],\n",
       "       [16350.12  ],\n",
       "       [16346.027 ],\n",
       "       [16339.674 ],\n",
       "       [16331.379 ],\n",
       "       [16346.543 ],\n",
       "       [16381.905 ],\n",
       "       [16427.193 ],\n",
       "       [16462.99  ],\n",
       "       [16481.469 ],\n",
       "       [16475.424 ],\n",
       "       [16443.307 ],\n",
       "       [16409.205 ],\n",
       "       [16391.346 ],\n",
       "       [16373.377 ],\n",
       "       [16367.47  ],\n",
       "       [16380.617 ],\n",
       "       [16411.035 ],\n",
       "       [16454.162 ],\n",
       "       [16516.006 ],\n",
       "       [16600.902 ],\n",
       "       [16706.121 ],\n",
       "       [16809.191 ],\n",
       "       [16883.611 ],\n",
       "       [16918.521 ],\n",
       "       [16914.512 ],\n",
       "       [16884.055 ],\n",
       "       [16851.682 ],\n",
       "       [16818.82  ],\n",
       "       [16757.81  ],\n",
       "       [16662.45  ],\n",
       "       [16572.47  ],\n",
       "       [16495.7   ],\n",
       "       [16431.791 ],\n",
       "       [16390.57  ],\n",
       "       [16383.655 ],\n",
       "       [16401.08  ],\n",
       "       [16430.568 ],\n",
       "       [16451.398 ],\n",
       "       [16481.625 ],\n",
       "       [16518.504 ],\n",
       "       [16547.232 ],\n",
       "       [16557.041 ],\n",
       "       [16539.445 ],\n",
       "       [16472.668 ],\n",
       "       [16382.561 ],\n",
       "       [16280.05  ],\n",
       "       [16191.429 ],\n",
       "       [16080.061 ],\n",
       "       [15961.231 ]], dtype=float32)"
      ]
     },
     "execution_count": 77,
     "metadata": {},
     "output_type": "execute_result"
    }
   ],
   "source": [
    "test_predict"
   ]
  },
  {
   "cell_type": "code",
   "execution_count": 87,
   "id": "01089628",
   "metadata": {},
   "outputs": [
    {
     "data": {
      "text/plain": [
       "13318.78231141343"
      ]
     },
     "execution_count": 87,
     "metadata": {},
     "output_type": "execute_result"
    }
   ],
   "source": [
    "### Test Data RMSE\n",
    "math.sqrt(mean_squared_error(ytest,test_predict))"
   ]
  },
  {
   "cell_type": "code",
   "execution_count": 88,
   "id": "bdcb1426",
   "metadata": {},
   "outputs": [
    {
     "name": "stdout",
     "output_type": "stream",
     "text": [
      "456\n",
      "456\n"
     ]
    }
   ],
   "source": [
    "print(len(ytest))\n",
    "print(len(test_predict))\n",
    "scores = model.evaluate(X_test,ytest, verbose=0)"
   ]
  },
  {
   "cell_type": "code",
   "execution_count": 92,
   "id": "e5b2db3f",
   "metadata": {},
   "outputs": [
    {
     "name": "stdout",
     "output_type": "stream",
     "text": [
      "0.002365571679547429\n"
     ]
    }
   ],
   "source": [
    "print(scores)"
   ]
  },
  {
   "cell_type": "code",
   "execution_count": 55,
   "id": "1aa00241",
   "metadata": {},
   "outputs": [
    {
     "ename": "NameError",
     "evalue": "name 'f1_score' is not defined",
     "output_type": "error",
     "traceback": [
      "\u001b[1;31m---------------------------------------------------------------------------\u001b[0m",
      "\u001b[1;31mNameError\u001b[0m                                 Traceback (most recent call last)",
      "\u001b[1;32m~\\AppData\\Local\\Temp/ipykernel_8088/2013319639.py\u001b[0m in \u001b[0;36m<module>\u001b[1;34m\u001b[0m\n\u001b[1;32m----> 1\u001b[1;33m \u001b[0mMNB_f1\u001b[0m \u001b[1;33m=\u001b[0m \u001b[0mround\u001b[0m\u001b[1;33m(\u001b[0m\u001b[0mf1_score\u001b[0m\u001b[1;33m(\u001b[0m\u001b[0my_test\u001b[0m\u001b[1;33m,\u001b[0m \u001b[0mpredictions\u001b[0m\u001b[1;33m,\u001b[0m \u001b[0maverage\u001b[0m\u001b[1;33m=\u001b[0m\u001b[1;34m'weighted'\u001b[0m\u001b[1;33m)\u001b[0m\u001b[1;33m,\u001b[0m \u001b[1;36m3\u001b[0m\u001b[1;33m)\u001b[0m\u001b[1;33m\u001b[0m\u001b[1;33m\u001b[0m\u001b[0m\n\u001b[0m\u001b[0;32m      2\u001b[0m \u001b[0mMNB_accuracy\u001b[0m \u001b[1;33m=\u001b[0m \u001b[0mround\u001b[0m\u001b[1;33m(\u001b[0m\u001b[1;33m(\u001b[0m\u001b[0maccuracy_score\u001b[0m\u001b[1;33m(\u001b[0m\u001b[0my_test\u001b[0m\u001b[1;33m,\u001b[0m \u001b[0mpredictions\u001b[0m\u001b[1;33m)\u001b[0m\u001b[1;33m*\u001b[0m\u001b[1;36m100\u001b[0m\u001b[1;33m)\u001b[0m\u001b[1;33m,\u001b[0m\u001b[1;36m2\u001b[0m\u001b[1;33m)\u001b[0m\u001b[1;33m\u001b[0m\u001b[1;33m\u001b[0m\u001b[0m\n\u001b[0;32m      3\u001b[0m \u001b[1;33m\u001b[0m\u001b[0m\n\u001b[0;32m      4\u001b[0m \u001b[0mprint\u001b[0m\u001b[1;33m(\u001b[0m\u001b[1;34m\"Accuracy : \"\u001b[0m \u001b[1;33m,\u001b[0m \u001b[0mMNB_accuracy\u001b[0m \u001b[1;33m,\u001b[0m \u001b[1;34m\" %\"\u001b[0m\u001b[1;33m)\u001b[0m\u001b[1;33m\u001b[0m\u001b[1;33m\u001b[0m\u001b[0m\n\u001b[0;32m      5\u001b[0m \u001b[0mprint\u001b[0m\u001b[1;33m(\u001b[0m\u001b[1;34m\"f1_score : \"\u001b[0m \u001b[1;33m,\u001b[0m \u001b[0mMNB_f1\u001b[0m\u001b[1;33m)\u001b[0m\u001b[1;33m\u001b[0m\u001b[1;33m\u001b[0m\u001b[0m\n",
      "\u001b[1;31mNameError\u001b[0m: name 'f1_score' is not defined"
     ]
    }
   ],
   "source": [
    "MNB_f1 = round(f1_score(y_test, predictions, average='weighted'), 3)\n",
    "MNB_accuracy = round((accuracy_score(y_test, predictions)*100),2)\n",
    "\n",
    "print(\"Accuracy : \" , MNB_accuracy , \" %\")\n",
    "print(\"f1_score : \" , MNB_f1)"
   ]
  },
  {
   "cell_type": "code",
   "execution_count": null,
   "id": "d68f2bd3",
   "metadata": {},
   "outputs": [],
   "source": []
  },
  {
   "cell_type": "code",
   "execution_count": 58,
   "id": "56921687",
   "metadata": {},
   "outputs": [
    {
     "data": {
      "image/png": "[encoded data removed]",
      "text/plain": [
       "<Figure size 432x288 with 1 Axes>"
      ]
     },
     "metadata": {
      "needs_background": "light"
     },
     "output_type": "display_data"
    }
   ],
   "source": [
    "### Plotting \n",
    "# shift train predictions for plotting\n",
    "import numpy\n",
    "look_back=100\n",
    "trainPredictPlot = numpy.empty_like(df1)\n",
    "trainPredictPlot[:, :] = np.nan\n",
    "trainPredictPlot[look_back:len(train_predict)+look_back, :] = train_predict\n",
    "# shift test predictions for plotting\n",
    "testPredictPlot = numpy.empty_like(df1)\n",
    "testPredictPlot[:, :] = numpy.nan\n",
    "testPredictPlot[len(train_predict)+(look_back*2)+1:len(df1)-1, :] = test_predict\n",
    "# plot baseline and predictions\n",
    "plt.plot(scaler.inverse_transform(df1))\n",
    "plt.plot(trainPredictPlot)\n",
    "plt.plot(testPredictPlot)\n",
    "plt.show()"
   ]
  },
  {
   "cell_type": "code",
   "execution_count": null,
   "id": "794a49fa",
   "metadata": {},
   "outputs": [],
   "source": []
  }
 ],
 "metadata": {
  "kernelspec": {
   "display_name": "Python 3 (ipykernel)",
   "language": "python",
   "name": "python3"
  },
  "language_info": {
   "codemirror_mode": {
    "name": "ipython",
    "version": 3
   },
   "file_extension": ".py",
   "mimetype": "text/x-python",
   "name": "python",
   "nbconvert_exporter": "python",
   "pygments_lexer": "ipython3",
   "version": "3.8.12"
  }
 },
 "nbformat": 4,
 "nbformat_minor": 5
}
